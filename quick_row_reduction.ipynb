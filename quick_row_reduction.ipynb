{
 "cells": [
  {
   "cell_type": "code",
   "execution_count": 6,
   "id": "09ee56b6",
   "metadata": {},
   "outputs": [],
   "source": [
    "import time\n",
    "import numpy as np\n",
    "from collections import defaultdict"
   ]
  },
  {
   "cell_type": "markdown",
   "id": "f09422d5",
   "metadata": {},
   "source": [
    "Если запустить ячейку ниже, то все операции будут проводится в кольце многочленов Оре с коэффициентами в кольце многочленов от x (Q[x][D;'])."
   ]
  },
  {
   "cell_type": "code",
   "execution_count": 16,
   "id": "47f2e292",
   "metadata": {},
   "outputs": [],
   "source": [
    "R.<x> = QQ[]\n",
    "der = R.derivation()\n",
    "A.<D> = R['D',der]"
   ]
  },
  {
   "cell_type": "markdown",
   "id": "9e1f5679",
   "metadata": {},
   "source": [
    "Если запустить ячейку ниже, то все операции будут проводится в кольце многочленов Оре с коэффициентами в поле рациональных функций от x (Q(x)[D;'])."
   ]
  },
  {
   "cell_type": "code",
   "execution_count": 27,
   "id": "94020457",
   "metadata": {},
   "outputs": [],
   "source": [
    "R.<x> = QQ[]\n",
    "F = R.fraction_field()\n",
    "der = F.derivation()\n",
    "A.<D> = F['D',der]"
   ]
  },
  {
   "cell_type": "code",
   "execution_count": 28,
   "id": "47578714",
   "metadata": {},
   "outputs": [],
   "source": [
    "true_degree = lambda elem: elem.degree() if elem else -1 \n",
    "\n",
    "def find_pivots(M, n, num, ps):\n",
    "    pivot_i = -1\n",
    "    pivot_d = -1\n",
    "    for i in range(n):\n",
    "        d = true_degree(M[num][i])\n",
    "        if d > pivot_d:\n",
    "            pivot_i = i\n",
    "            pivot_d = d\n",
    "    ps[pivot_i].append((num, pivot_d))\n",
    "\n",
    "def quick_row_red(N, method='regular'):\n",
    "    M = copy(N)\n",
    "    m = M.nrows()\n",
    "    n = M.ncols()\n",
    "    U = identity_matrix(A, m)\n",
    "    pivots = defaultdict(list)\n",
    "    for i in range(m):\n",
    "        find_pivots(M, n, i, pivots)\n",
    "    piv_i = 0\n",
    "#     steps = 0\n",
    "    while 1:\n",
    "        if len(pivots[piv_i]) > 1:\n",
    "#             steps += 1\n",
    "            i,deg_i = pivots[piv_i].pop()\n",
    "            j,deg_j = pivots[piv_i].pop()\n",
    "            if deg_j > deg_i:\n",
    "                i,j = j,i\n",
    "                deg_i,deg_j = deg_j,deg_i\n",
    "            c1 = M[i][piv_i].leading_coefficient()\n",
    "            c2 = M[j][piv_i].leading_coefficient()\n",
    "            e = deg_i - deg_j\n",
    "            if method == 'division-free':\n",
    "                M.set_row(i, c2*M[i])\n",
    "                M.add_multiple_of_row(i, j, -c1*D^e, 0)\n",
    "                U.set_row(i, c2*U[i])\n",
    "                U.add_multiple_of_row(i, j, -c1*D^e, 0) \n",
    "            else:\n",
    "                c = - c1 / c2\n",
    "                coeff = c * D^e\n",
    "                M.add_multiple_of_row(i, j, coeff, 0)\n",
    "                U.add_multiple_of_row(i, j, coeff, 0)    \n",
    "            find_pivots(M, n, i, pivots)\n",
    "            pivots[piv_i].append((j,deg_j))\n",
    "            piv_i = 0\n",
    "        else:\n",
    "            if piv_i == n:\n",
    "                return M, U\n",
    "            else:\n",
    "                piv_i += 1"
   ]
  },
  {
   "cell_type": "code",
   "execution_count": 29,
   "id": "dd780c42",
   "metadata": {},
   "outputs": [],
   "source": [
    "L = matrix([[D^3+x,2*D^2, x^2+x],[D^2, x*D^2, 2*x^2+1],[D, x*D, 1]])\n",
    "X = matrix([[x^2/2,-x/2*D+1],[-x*D-3, D^2]])\n",
    "Y = matrix([[D^2, x/2*D],[x*D+1,x^2/2]])\n",
    "Z = matrix([[1/12, D + 1/3*(2+x^2)],[1/4,3*D+x^2+1]])"
   ]
  },
  {
   "cell_type": "markdown",
   "id": "dc5b7e1f",
   "metadata": {},
   "source": [
    "Следующие ячейки выполнятся в Q[x][D;']"
   ]
  },
  {
   "cell_type": "code",
   "execution_count": 20,
   "id": "a7dfd5e4",
   "metadata": {},
   "outputs": [
    {
     "data": {
      "text/plain": [
       "(\n",
       "[                                                -x                                                  0 -x*D^3 + (2*x^3 + x + 1)*D^2 + 8*x^2*D - x^2 + 3*x]\n",
       "[                                                 0                                                 -D                                     -D + 2*x^2 + 1]\n",
       "[                                                 D                                                x*D                                                  1],\n",
       "\n",
       "[          -1        x*D^2 -x*D^3 + D^2]\n",
       "[           0            1           -D]\n",
       "[           0            0            1]\n",
       ")"
      ]
     },
     "execution_count": 20,
     "metadata": {},
     "output_type": "execute_result"
    }
   ],
   "source": [
    "quick_row_red(L, method='division-free')"
   ]
  },
  {
   "cell_type": "code",
   "execution_count": 21,
   "id": "ed7015b9",
   "metadata": {},
   "outputs": [
    {
     "data": {
      "text/plain": [
       "(\n",
       "[     0   -1/2]  [-1/2*x*D - 1/2       -1/4*x^2]\n",
       "[-1/4*x      0], [    -1/4*x*D^2     -1/8*x^2*D]\n",
       ")"
      ]
     },
     "execution_count": 21,
     "metadata": {},
     "output_type": "execute_result"
    }
   ],
   "source": [
    "quick_row_red(X, method='division-free')"
   ]
  },
  {
   "cell_type": "code",
   "execution_count": 22,
   "id": "b4666d05",
   "metadata": {},
   "outputs": [
    {
     "data": {
      "text/plain": [
       "(\n",
       "[  0 2*x]  [-2*x^2*D - 6*x        2*x*D^2]\n",
       "[ -2   0], [          -x^2        x*D - 2]\n",
       ")"
      ]
     },
     "execution_count": 22,
     "metadata": {},
     "output_type": "execute_result"
    }
   ],
   "source": [
    "quick_row_red(Y, method='division-free')"
   ]
  },
  {
   "cell_type": "code",
   "execution_count": 23,
   "id": "d1ee83ac",
   "metadata": {},
   "outputs": [
    {
     "data": {
      "text/plain": [
       "(\n",
       "[         -1/12 -1/3*x^2 - 2/3]  [3*D - 1      -D]\n",
       "[             0             -1], [     -3       1]\n",
       ")"
      ]
     },
     "execution_count": 23,
     "metadata": {},
     "output_type": "execute_result"
    }
   ],
   "source": [
    "quick_row_red(Z, method='division-free')"
   ]
  },
  {
   "cell_type": "markdown",
   "id": "f6da459c",
   "metadata": {},
   "source": [
    "Следующие ячейки выполняются в Q(x)[D;']"
   ]
  },
  {
   "cell_type": "code",
   "execution_count": 25,
   "id": "ab218c36",
   "metadata": {},
   "outputs": [
    {
     "data": {
      "text/plain": [
       "(\n",
       "[                                                 x                                                  0 x*D^3 + (-2*x^3 - x - 1)*D^2 - 8*x^2*D + x^2 - 3*x]\n",
       "[                                                 0                                                 -D                                     -D + 2*x^2 + 1]\n",
       "[                                                 D                                                x*D                                                  1],\n",
       "\n",
       "[          1      -x*D^2 x*D^3 - D^2]\n",
       "[          0           1          -D]\n",
       "[          0           0           1]\n",
       ")"
      ]
     },
     "execution_count": 25,
     "metadata": {},
     "output_type": "execute_result"
    }
   ],
   "source": [
    "quick_row_red(L)"
   ]
  },
  {
   "cell_type": "code",
   "execution_count": 30,
   "id": "40638f1b",
   "metadata": {},
   "outputs": [
    {
     "data": {
      "text/plain": [
       "(\n",
       "[ 0  1]  [ x*D + 1  1/2*x^2]\n",
       "[-1  0], [    -D^2 -1/2*x*D]\n",
       ")"
      ]
     },
     "execution_count": 30,
     "metadata": {},
     "output_type": "execute_result"
    }
   ],
   "source": [
    "quick_row_red(X)"
   ]
  },
  {
   "cell_type": "code",
   "execution_count": 31,
   "id": "b647b19c",
   "metadata": {},
   "outputs": [
    {
     "data": {
      "text/plain": [
       "(\n",
       "[ 0 -1]  [     x*D + 3         -D^2]\n",
       "[ 1  0], [     1/2*x^2 -1/2*x*D + 1]\n",
       ")"
      ]
     },
     "execution_count": 31,
     "metadata": {},
     "output_type": "execute_result"
    }
   ],
   "source": [
    "quick_row_red(Y)"
   ]
  },
  {
   "cell_type": "code",
   "execution_count": 32,
   "id": "2e28028b",
   "metadata": {},
   "outputs": [
    {
     "data": {
      "text/plain": [
       "(\n",
       "[         1/12 1/3*x^2 + 2/3]  [-3*D + 1        D]\n",
       "[            0            -1], [      -3        1]\n",
       ")"
      ]
     },
     "execution_count": 32,
     "metadata": {},
     "output_type": "execute_result"
    }
   ],
   "source": [
    "quick_row_red(Z)"
   ]
  }
 ],
 "metadata": {
  "kernelspec": {
   "display_name": "SageMath 10.0.beta9",
   "language": "sage",
   "name": "sagemath"
  },
  "language_info": {
   "codemirror_mode": {
    "name": "ipython",
    "version": 3
   },
   "file_extension": ".py",
   "mimetype": "text/x-python",
   "name": "python",
   "nbconvert_exporter": "python",
   "pygments_lexer": "ipython3",
   "version": "3.11.1"
  }
 },
 "nbformat": 4,
 "nbformat_minor": 5
}
